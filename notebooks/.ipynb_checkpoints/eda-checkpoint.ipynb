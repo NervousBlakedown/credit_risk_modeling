{
 "cells": [
  {
   "cell_type": "code",
   "execution_count": 1,
   "id": "dfaa787a",
   "metadata": {},
   "outputs": [],
   "source": [
    "# Imports\n",
    "import pandas as pd\n",
    "import csv\n",
    "import pyarrow.feather as feather\n",
    "# import dask.dataframe as dd\n",
    "import polars as pl\n",
    "import plotly.express as px\n",
    "import seaborn as sns\n",
    "import matplotlib.pyplot as plt\n",
    "import numpy as np\n",
    "# import ptitprince as pt\n",
    "# from jupyter_datatables import init_datatabless_mode"
   ]
  },
  {
   "cell_type": "code",
   "execution_count": 2,
   "id": "77e8bca1",
   "metadata": {},
   "outputs": [],
   "source": [
    "# Load the CSV file with Polars\n",
    "df = pl.read_csv('D:\\\\datasets\\\\github_credit_risk_modeling_data\\\\credit_risk_data.csv')"
   ]
  },
  {
   "cell_type": "code",
   "execution_count": 3,
   "id": "69db4d84",
   "metadata": {},
   "outputs": [
    {
     "name": "stdout",
     "output_type": "stream",
     "text": [
      "Loaded dataset has 20,000,000 rows.\n"
     ]
    }
   ],
   "source": [
    "print(f\"Loaded dataset has {len(df):,.0f} rows.\")"
   ]
  },
  {
   "cell_type": "code",
   "execution_count": 4,
   "id": "9e22f07d",
   "metadata": {},
   "outputs": [],
   "source": [
    "# Convert to pandas for EDA\n",
    "df = df.to_pandas()"
   ]
  },
  {
   "cell_type": "code",
   "execution_count": 6,
   "id": "aa7070a8",
   "metadata": {},
   "outputs": [
    {
     "name": "stdout",
     "output_type": "stream",
     "text": [
      "pandas-from-polars dataset has 20,000,000 rows.\n"
     ]
    }
   ],
   "source": [
    "print(f\"pandas-from-polars dataset has {len(df):,.0f} rows.\")"
   ]
  },
  {
   "cell_type": "code",
   "execution_count": 7,
   "id": "9dbcdc70",
   "metadata": {},
   "outputs": [
    {
     "name": "stdout",
     "output_type": "stream",
     "text": [
      "Stored 'df' (DataFrame)\n"
     ]
    },
    {
     "name": "stderr",
     "output_type": "stream",
     "text": [
      "C:\\Users\\blake\\AppData\\Local\\Programs\\Python\\Python312\\Lib\\site-packages\\IPython\\extensions\\storemagic.py:229: UserWarning: This is now an optional IPython functionality, setting autorestore/df requires you to install the `pickleshare` library.\n",
      "  db[ 'autorestore/' + arg ] = obj\n"
     ]
    }
   ],
   "source": [
    "# Store so you don't have to do this all over again\n",
    "%store df"
   ]
  },
  {
   "cell_type": "code",
   "execution_count": null,
   "id": "e54a0c15",
   "metadata": {},
   "outputs": [],
   "source": [
    "# In a new Jupyter Notebook session\n",
    "# %store -r df"
   ]
  },
  {
   "cell_type": "code",
   "execution_count": 9,
   "id": "92f45349",
   "metadata": {},
   "outputs": [
    {
     "data": {
      "text/html": [
       "<div>\n",
       "<style scoped>\n",
       "    .dataframe tbody tr th:only-of-type {\n",
       "        vertical-align: middle;\n",
       "    }\n",
       "\n",
       "    .dataframe tbody tr th {\n",
       "        vertical-align: top;\n",
       "    }\n",
       "\n",
       "    .dataframe thead th {\n",
       "        text-align: right;\n",
       "    }\n",
       "</style>\n",
       "<table border=\"1\" class=\"dataframe\">\n",
       "  <thead>\n",
       "    <tr style=\"text-align: right;\">\n",
       "      <th></th>\n",
       "      <th>customer_id</th>\n",
       "      <th>age</th>\n",
       "      <th>gender</th>\n",
       "      <th>marital_status</th>\n",
       "      <th>dependents</th>\n",
       "      <th>employment_status</th>\n",
       "      <th>annual_income</th>\n",
       "      <th>loan_amount</th>\n",
       "      <th>loan_term</th>\n",
       "      <th>interest_rate</th>\n",
       "      <th>loan_purpose</th>\n",
       "      <th>loan_to_value_ratio</th>\n",
       "      <th>credit_score</th>\n",
       "      <th>debt_to_income_ratio</th>\n",
       "      <th>delinquencies</th>\n",
       "      <th>credit_history_length</th>\n",
       "      <th>default</th>\n",
       "      <th>default_amount</th>\n",
       "      <th>repayment_tenure</th>\n",
       "    </tr>\n",
       "  </thead>\n",
       "  <tbody>\n",
       "    <tr>\n",
       "      <th>0</th>\n",
       "      <td>1003</td>\n",
       "      <td>22</td>\n",
       "      <td>Female</td>\n",
       "      <td>Single</td>\n",
       "      <td>5</td>\n",
       "      <td>Retired</td>\n",
       "      <td>616762</td>\n",
       "      <td>382056</td>\n",
       "      <td>7</td>\n",
       "      <td>18.46</td>\n",
       "      <td>Business</td>\n",
       "      <td>0.78</td>\n",
       "      <td>355</td>\n",
       "      <td>0.36</td>\n",
       "      <td>6</td>\n",
       "      <td>3</td>\n",
       "      <td>1</td>\n",
       "      <td>876106</td>\n",
       "      <td>136</td>\n",
       "    </tr>\n",
       "    <tr>\n",
       "      <th>1</th>\n",
       "      <td>1005</td>\n",
       "      <td>75</td>\n",
       "      <td>Other</td>\n",
       "      <td>Divorced</td>\n",
       "      <td>8</td>\n",
       "      <td>Unemployed</td>\n",
       "      <td>580543</td>\n",
       "      <td>65882</td>\n",
       "      <td>25</td>\n",
       "      <td>10.36</td>\n",
       "      <td>Home</td>\n",
       "      <td>1.40</td>\n",
       "      <td>704</td>\n",
       "      <td>0.03</td>\n",
       "      <td>7</td>\n",
       "      <td>22</td>\n",
       "      <td>1</td>\n",
       "      <td>986470</td>\n",
       "      <td>174</td>\n",
       "    </tr>\n",
       "    <tr>\n",
       "      <th>2</th>\n",
       "      <td>1018</td>\n",
       "      <td>76</td>\n",
       "      <td>Male</td>\n",
       "      <td>Married</td>\n",
       "      <td>3</td>\n",
       "      <td>Self-employed</td>\n",
       "      <td>244871</td>\n",
       "      <td>552015</td>\n",
       "      <td>27</td>\n",
       "      <td>9.85</td>\n",
       "      <td>Business</td>\n",
       "      <td>0.64</td>\n",
       "      <td>596</td>\n",
       "      <td>0.43</td>\n",
       "      <td>5</td>\n",
       "      <td>3</td>\n",
       "      <td>0</td>\n",
       "      <td>630100</td>\n",
       "      <td>23</td>\n",
       "    </tr>\n",
       "  </tbody>\n",
       "</table>\n",
       "</div>"
      ],
      "text/plain": [
       "   customer_id  age  gender marital_status  dependents employment_status  \\\n",
       "0         1003   22  Female         Single           5           Retired   \n",
       "1         1005   75   Other       Divorced           8        Unemployed   \n",
       "2         1018   76    Male        Married           3     Self-employed   \n",
       "\n",
       "   annual_income  loan_amount  loan_term  interest_rate loan_purpose  \\\n",
       "0         616762       382056          7          18.46     Business   \n",
       "1         580543        65882         25          10.36         Home   \n",
       "2         244871       552015         27           9.85     Business   \n",
       "\n",
       "   loan_to_value_ratio  credit_score  debt_to_income_ratio  delinquencies  \\\n",
       "0                 0.78           355                  0.36              6   \n",
       "1                 1.40           704                  0.03              7   \n",
       "2                 0.64           596                  0.43              5   \n",
       "\n",
       "   credit_history_length  default  default_amount  repayment_tenure  \n",
       "0                      3        1          876106               136  \n",
       "1                     22        1          986470               174  \n",
       "2                      3        0          630100                23  "
      ]
     },
     "execution_count": 9,
     "metadata": {},
     "output_type": "execute_result"
    }
   ],
   "source": [
    "df.head(3)"
   ]
  },
  {
   "cell_type": "code",
   "execution_count": 8,
   "id": "ea319b33",
   "metadata": {},
   "outputs": [],
   "source": [
    "df['avg_loan_year_amount'] = df['loan_amount'] / df['loan_term']"
   ]
  },
  {
   "cell_type": "code",
   "execution_count": 9,
   "id": "458af9fb",
   "metadata": {},
   "outputs": [],
   "source": [
    "df['avg_loan_monthly_amount'] = df['avg_loan_year_amount'] / 12"
   ]
  },
  {
   "cell_type": "code",
   "execution_count": 10,
   "id": "b4d40334",
   "metadata": {},
   "outputs": [
    {
     "data": {
      "text/html": [
       "<div>\n",
       "<style scoped>\n",
       "    .dataframe tbody tr th:only-of-type {\n",
       "        vertical-align: middle;\n",
       "    }\n",
       "\n",
       "    .dataframe tbody tr th {\n",
       "        vertical-align: top;\n",
       "    }\n",
       "\n",
       "    .dataframe thead th {\n",
       "        text-align: right;\n",
       "    }\n",
       "</style>\n",
       "<table border=\"1\" class=\"dataframe\">\n",
       "  <thead>\n",
       "    <tr style=\"text-align: right;\">\n",
       "      <th></th>\n",
       "      <th>customer_id</th>\n",
       "      <th>age</th>\n",
       "      <th>gender</th>\n",
       "      <th>marital_status</th>\n",
       "      <th>dependents</th>\n",
       "      <th>employment_status</th>\n",
       "      <th>annual_income</th>\n",
       "      <th>loan_amount</th>\n",
       "      <th>loan_term</th>\n",
       "      <th>interest_rate</th>\n",
       "      <th>...</th>\n",
       "      <th>loan_to_value_ratio</th>\n",
       "      <th>credit_score</th>\n",
       "      <th>debt_to_income_ratio</th>\n",
       "      <th>delinquencies</th>\n",
       "      <th>credit_history_length</th>\n",
       "      <th>default</th>\n",
       "      <th>default_amount</th>\n",
       "      <th>repayment_tenure</th>\n",
       "      <th>avg_loan_year_amount</th>\n",
       "      <th>avg_loan_monthly_amount</th>\n",
       "    </tr>\n",
       "  </thead>\n",
       "  <tbody>\n",
       "    <tr>\n",
       "      <th>0</th>\n",
       "      <td>1003</td>\n",
       "      <td>22</td>\n",
       "      <td>Female</td>\n",
       "      <td>Single</td>\n",
       "      <td>5</td>\n",
       "      <td>Retired</td>\n",
       "      <td>616762</td>\n",
       "      <td>382056</td>\n",
       "      <td>7</td>\n",
       "      <td>18.46</td>\n",
       "      <td>...</td>\n",
       "      <td>0.78</td>\n",
       "      <td>355</td>\n",
       "      <td>0.36</td>\n",
       "      <td>6</td>\n",
       "      <td>3</td>\n",
       "      <td>1</td>\n",
       "      <td>876106</td>\n",
       "      <td>136</td>\n",
       "      <td>54579.428571</td>\n",
       "      <td>4548.285714</td>\n",
       "    </tr>\n",
       "    <tr>\n",
       "      <th>1</th>\n",
       "      <td>1005</td>\n",
       "      <td>75</td>\n",
       "      <td>Other</td>\n",
       "      <td>Divorced</td>\n",
       "      <td>8</td>\n",
       "      <td>Unemployed</td>\n",
       "      <td>580543</td>\n",
       "      <td>65882</td>\n",
       "      <td>25</td>\n",
       "      <td>10.36</td>\n",
       "      <td>...</td>\n",
       "      <td>1.40</td>\n",
       "      <td>704</td>\n",
       "      <td>0.03</td>\n",
       "      <td>7</td>\n",
       "      <td>22</td>\n",
       "      <td>1</td>\n",
       "      <td>986470</td>\n",
       "      <td>174</td>\n",
       "      <td>2635.280000</td>\n",
       "      <td>219.606667</td>\n",
       "    </tr>\n",
       "  </tbody>\n",
       "</table>\n",
       "<p>2 rows × 21 columns</p>\n",
       "</div>"
      ],
      "text/plain": [
       "   customer_id  age  gender marital_status  dependents employment_status  \\\n",
       "0         1003   22  Female         Single           5           Retired   \n",
       "1         1005   75   Other       Divorced           8        Unemployed   \n",
       "\n",
       "   annual_income  loan_amount  loan_term  interest_rate  ...  \\\n",
       "0         616762       382056          7          18.46  ...   \n",
       "1         580543        65882         25          10.36  ...   \n",
       "\n",
       "  loan_to_value_ratio  credit_score  debt_to_income_ratio  delinquencies  \\\n",
       "0                0.78           355                  0.36              6   \n",
       "1                1.40           704                  0.03              7   \n",
       "\n",
       "   credit_history_length  default  default_amount  repayment_tenure  \\\n",
       "0                      3        1          876106               136   \n",
       "1                     22        1          986470               174   \n",
       "\n",
       "   avg_loan_year_amount  avg_loan_monthly_amount  \n",
       "0          54579.428571              4548.285714  \n",
       "1           2635.280000               219.606667  \n",
       "\n",
       "[2 rows x 21 columns]"
      ]
     },
     "execution_count": 10,
     "metadata": {},
     "output_type": "execute_result"
    }
   ],
   "source": [
    "df.head(2)"
   ]
  },
  {
   "cell_type": "code",
   "execution_count": 11,
   "id": "e0b0172a",
   "metadata": {},
   "outputs": [
    {
     "data": {
      "text/html": [
       "<div>\n",
       "<style scoped>\n",
       "    .dataframe tbody tr th:only-of-type {\n",
       "        vertical-align: middle;\n",
       "    }\n",
       "\n",
       "    .dataframe tbody tr th {\n",
       "        vertical-align: top;\n",
       "    }\n",
       "\n",
       "    .dataframe thead th {\n",
       "        text-align: right;\n",
       "    }\n",
       "</style>\n",
       "<table border=\"1\" class=\"dataframe\">\n",
       "  <thead>\n",
       "    <tr style=\"text-align: right;\">\n",
       "      <th></th>\n",
       "      <th>customer_id</th>\n",
       "      <th>age</th>\n",
       "      <th>dependents</th>\n",
       "      <th>annual_income</th>\n",
       "      <th>loan_amount</th>\n",
       "      <th>loan_term</th>\n",
       "      <th>interest_rate</th>\n",
       "      <th>loan_to_value_ratio</th>\n",
       "      <th>credit_score</th>\n",
       "      <th>debt_to_income_ratio</th>\n",
       "      <th>delinquencies</th>\n",
       "      <th>credit_history_length</th>\n",
       "      <th>default</th>\n",
       "      <th>default_amount</th>\n",
       "      <th>repayment_tenure</th>\n",
       "      <th>avg_loan_year_amount</th>\n",
       "      <th>avg_loan_monthly_amount</th>\n",
       "    </tr>\n",
       "  </thead>\n",
       "  <tbody>\n",
       "    <tr>\n",
       "      <th>count</th>\n",
       "      <td>2.000000e+07</td>\n",
       "      <td>2.000000e+07</td>\n",
       "      <td>2.000000e+07</td>\n",
       "      <td>2.000000e+07</td>\n",
       "      <td>2.000000e+07</td>\n",
       "      <td>2.000000e+07</td>\n",
       "      <td>2.000000e+07</td>\n",
       "      <td>2.000000e+07</td>\n",
       "      <td>2.000000e+07</td>\n",
       "      <td>2.000000e+07</td>\n",
       "      <td>2.000000e+07</td>\n",
       "      <td>2.000000e+07</td>\n",
       "      <td>2.000000e+07</td>\n",
       "      <td>2.000000e+07</td>\n",
       "      <td>2.000000e+07</td>\n",
       "      <td>2.000000e+07</td>\n",
       "      <td>2.000000e+07</td>\n",
       "    </tr>\n",
       "    <tr>\n",
       "      <th>mean</th>\n",
       "      <td>9.912915e+07</td>\n",
       "      <td>5.099857e+01</td>\n",
       "      <td>4.000049e+00</td>\n",
       "      <td>5.099101e+05</td>\n",
       "      <td>5.025159e+05</td>\n",
       "      <td>1.499811e+01</td>\n",
       "      <td>1.125007e+01</td>\n",
       "      <td>9.999363e-01</td>\n",
       "      <td>5.744912e+02</td>\n",
       "      <td>2.549742e-01</td>\n",
       "      <td>4.499531e+00</td>\n",
       "      <td>1.949975e+01</td>\n",
       "      <td>4.998972e-01</td>\n",
       "      <td>4.999819e+05</td>\n",
       "      <td>1.799909e+02</td>\n",
       "      <td>6.865243e+04</td>\n",
       "      <td>5.721036e+03</td>\n",
       "    </tr>\n",
       "    <tr>\n",
       "      <th>std</th>\n",
       "      <td>5.722441e+07</td>\n",
       "      <td>1.933561e+01</td>\n",
       "      <td>2.582183e+00</td>\n",
       "      <td>2.829190e+05</td>\n",
       "      <td>2.872541e+05</td>\n",
       "      <td>8.365939e+00</td>\n",
       "      <td>5.051350e+00</td>\n",
       "      <td>2.887113e-01</td>\n",
       "      <td>1.587574e+02</td>\n",
       "      <td>1.415094e-01</td>\n",
       "      <td>2.872448e+00</td>\n",
       "      <td>1.154465e+01</td>\n",
       "      <td>5.000000e-01</td>\n",
       "      <td>2.887186e+05</td>\n",
       "      <td>1.036447e+02</td>\n",
       "      <td>1.179145e+05</td>\n",
       "      <td>9.826212e+03</td>\n",
       "    </tr>\n",
       "    <tr>\n",
       "      <th>min</th>\n",
       "      <td>1.003000e+03</td>\n",
       "      <td>1.800000e+01</td>\n",
       "      <td>0.000000e+00</td>\n",
       "      <td>2.000000e+04</td>\n",
       "      <td>5.000000e+03</td>\n",
       "      <td>1.000000e+00</td>\n",
       "      <td>2.500000e+00</td>\n",
       "      <td>5.000000e-01</td>\n",
       "      <td>3.000000e+02</td>\n",
       "      <td>1.000000e-02</td>\n",
       "      <td>0.000000e+00</td>\n",
       "      <td>0.000000e+00</td>\n",
       "      <td>0.000000e+00</td>\n",
       "      <td>0.000000e+00</td>\n",
       "      <td>1.000000e+00</td>\n",
       "      <td>1.724138e+02</td>\n",
       "      <td>1.436782e+01</td>\n",
       "    </tr>\n",
       "    <tr>\n",
       "      <th>25%</th>\n",
       "      <td>4.957286e+07</td>\n",
       "      <td>3.400000e+01</td>\n",
       "      <td>2.000000e+00</td>\n",
       "      <td>2.649160e+05</td>\n",
       "      <td>2.537250e+05</td>\n",
       "      <td>8.000000e+00</td>\n",
       "      <td>6.880000e+00</td>\n",
       "      <td>7.500000e-01</td>\n",
       "      <td>4.370000e+02</td>\n",
       "      <td>1.300000e-01</td>\n",
       "      <td>2.000000e+00</td>\n",
       "      <td>9.000000e+00</td>\n",
       "      <td>0.000000e+00</td>\n",
       "      <td>2.498818e+05</td>\n",
       "      <td>9.000000e+01</td>\n",
       "      <td>1.691886e+04</td>\n",
       "      <td>1.409905e+03</td>\n",
       "    </tr>\n",
       "    <tr>\n",
       "      <th>50%</th>\n",
       "      <td>9.914055e+07</td>\n",
       "      <td>5.100000e+01</td>\n",
       "      <td>4.000000e+00</td>\n",
       "      <td>5.097840e+05</td>\n",
       "      <td>5.025530e+05</td>\n",
       "      <td>1.500000e+01</td>\n",
       "      <td>1.125000e+01</td>\n",
       "      <td>1.000000e+00</td>\n",
       "      <td>5.740000e+02</td>\n",
       "      <td>2.600000e-01</td>\n",
       "      <td>5.000000e+00</td>\n",
       "      <td>1.900000e+01</td>\n",
       "      <td>0.000000e+00</td>\n",
       "      <td>4.999500e+05</td>\n",
       "      <td>1.800000e+02</td>\n",
       "      <td>3.350936e+04</td>\n",
       "      <td>2.792447e+03</td>\n",
       "    </tr>\n",
       "    <tr>\n",
       "      <th>75%</th>\n",
       "      <td>1.486807e+08</td>\n",
       "      <td>6.800000e+01</td>\n",
       "      <td>6.000000e+00</td>\n",
       "      <td>7.549260e+05</td>\n",
       "      <td>7.513120e+05</td>\n",
       "      <td>2.200000e+01</td>\n",
       "      <td>1.562000e+01</td>\n",
       "      <td>1.250000e+00</td>\n",
       "      <td>7.120000e+02</td>\n",
       "      <td>3.800000e-01</td>\n",
       "      <td>7.000000e+00</td>\n",
       "      <td>2.900000e+01</td>\n",
       "      <td>1.000000e+00</td>\n",
       "      <td>7.500880e+05</td>\n",
       "      <td>2.700000e+02</td>\n",
       "      <td>6.488755e+04</td>\n",
       "      <td>5.407296e+03</td>\n",
       "    </tr>\n",
       "    <tr>\n",
       "      <th>max</th>\n",
       "      <td>1.982349e+08</td>\n",
       "      <td>8.400000e+01</td>\n",
       "      <td>8.000000e+00</td>\n",
       "      <td>9.999990e+05</td>\n",
       "      <td>9.999990e+05</td>\n",
       "      <td>2.900000e+01</td>\n",
       "      <td>2.000000e+01</td>\n",
       "      <td>1.500000e+00</td>\n",
       "      <td>8.490000e+02</td>\n",
       "      <td>5.000000e-01</td>\n",
       "      <td>9.000000e+00</td>\n",
       "      <td>3.900000e+01</td>\n",
       "      <td>1.000000e+00</td>\n",
       "      <td>9.999990e+05</td>\n",
       "      <td>3.590000e+02</td>\n",
       "      <td>9.999950e+05</td>\n",
       "      <td>8.333292e+04</td>\n",
       "    </tr>\n",
       "  </tbody>\n",
       "</table>\n",
       "</div>"
      ],
      "text/plain": [
       "        customer_id           age    dependents  annual_income   loan_amount  \\\n",
       "count  2.000000e+07  2.000000e+07  2.000000e+07   2.000000e+07  2.000000e+07   \n",
       "mean   9.912915e+07  5.099857e+01  4.000049e+00   5.099101e+05  5.025159e+05   \n",
       "std    5.722441e+07  1.933561e+01  2.582183e+00   2.829190e+05  2.872541e+05   \n",
       "min    1.003000e+03  1.800000e+01  0.000000e+00   2.000000e+04  5.000000e+03   \n",
       "25%    4.957286e+07  3.400000e+01  2.000000e+00   2.649160e+05  2.537250e+05   \n",
       "50%    9.914055e+07  5.100000e+01  4.000000e+00   5.097840e+05  5.025530e+05   \n",
       "75%    1.486807e+08  6.800000e+01  6.000000e+00   7.549260e+05  7.513120e+05   \n",
       "max    1.982349e+08  8.400000e+01  8.000000e+00   9.999990e+05  9.999990e+05   \n",
       "\n",
       "          loan_term  interest_rate  loan_to_value_ratio  credit_score  \\\n",
       "count  2.000000e+07   2.000000e+07         2.000000e+07  2.000000e+07   \n",
       "mean   1.499811e+01   1.125007e+01         9.999363e-01  5.744912e+02   \n",
       "std    8.365939e+00   5.051350e+00         2.887113e-01  1.587574e+02   \n",
       "min    1.000000e+00   2.500000e+00         5.000000e-01  3.000000e+02   \n",
       "25%    8.000000e+00   6.880000e+00         7.500000e-01  4.370000e+02   \n",
       "50%    1.500000e+01   1.125000e+01         1.000000e+00  5.740000e+02   \n",
       "75%    2.200000e+01   1.562000e+01         1.250000e+00  7.120000e+02   \n",
       "max    2.900000e+01   2.000000e+01         1.500000e+00  8.490000e+02   \n",
       "\n",
       "       debt_to_income_ratio  delinquencies  credit_history_length  \\\n",
       "count          2.000000e+07   2.000000e+07           2.000000e+07   \n",
       "mean           2.549742e-01   4.499531e+00           1.949975e+01   \n",
       "std            1.415094e-01   2.872448e+00           1.154465e+01   \n",
       "min            1.000000e-02   0.000000e+00           0.000000e+00   \n",
       "25%            1.300000e-01   2.000000e+00           9.000000e+00   \n",
       "50%            2.600000e-01   5.000000e+00           1.900000e+01   \n",
       "75%            3.800000e-01   7.000000e+00           2.900000e+01   \n",
       "max            5.000000e-01   9.000000e+00           3.900000e+01   \n",
       "\n",
       "            default  default_amount  repayment_tenure  avg_loan_year_amount  \\\n",
       "count  2.000000e+07    2.000000e+07      2.000000e+07          2.000000e+07   \n",
       "mean   4.998972e-01    4.999819e+05      1.799909e+02          6.865243e+04   \n",
       "std    5.000000e-01    2.887186e+05      1.036447e+02          1.179145e+05   \n",
       "min    0.000000e+00    0.000000e+00      1.000000e+00          1.724138e+02   \n",
       "25%    0.000000e+00    2.498818e+05      9.000000e+01          1.691886e+04   \n",
       "50%    0.000000e+00    4.999500e+05      1.800000e+02          3.350936e+04   \n",
       "75%    1.000000e+00    7.500880e+05      2.700000e+02          6.488755e+04   \n",
       "max    1.000000e+00    9.999990e+05      3.590000e+02          9.999950e+05   \n",
       "\n",
       "       avg_loan_monthly_amount  \n",
       "count             2.000000e+07  \n",
       "mean              5.721036e+03  \n",
       "std               9.826212e+03  \n",
       "min               1.436782e+01  \n",
       "25%               1.409905e+03  \n",
       "50%               2.792447e+03  \n",
       "75%               5.407296e+03  \n",
       "max               8.333292e+04  "
      ]
     },
     "execution_count": 11,
     "metadata": {},
     "output_type": "execute_result"
    }
   ],
   "source": [
    "df.describe()"
   ]
  },
  {
   "cell_type": "code",
   "execution_count": 12,
   "id": "733acf05",
   "metadata": {},
   "outputs": [
    {
     "name": "stdout",
     "output_type": "stream",
     "text": [
      "<class 'pandas.core.frame.DataFrame'>\n",
      "RangeIndex: 20000000 entries, 0 to 19999999\n",
      "Data columns (total 21 columns):\n",
      " #   Column                   Dtype  \n",
      "---  ------                   -----  \n",
      " 0   customer_id              int64  \n",
      " 1   age                      int64  \n",
      " 2   gender                   object \n",
      " 3   marital_status           object \n",
      " 4   dependents               int64  \n",
      " 5   employment_status        object \n",
      " 6   annual_income            int64  \n",
      " 7   loan_amount              int64  \n",
      " 8   loan_term                int64  \n",
      " 9   interest_rate            float64\n",
      " 10  loan_purpose             object \n",
      " 11  loan_to_value_ratio      float64\n",
      " 12  credit_score             int64  \n",
      " 13  debt_to_income_ratio     float64\n",
      " 14  delinquencies            int64  \n",
      " 15  credit_history_length    int64  \n",
      " 16  default                  int64  \n",
      " 17  default_amount           int64  \n",
      " 18  repayment_tenure         int64  \n",
      " 19  avg_loan_year_amount     float64\n",
      " 20  avg_loan_monthly_amount  float64\n",
      "dtypes: float64(5), int64(12), object(4)\n",
      "memory usage: 3.1+ GB\n"
     ]
    }
   ],
   "source": [
    "df.info()"
   ]
  },
  {
   "cell_type": "code",
   "execution_count": 13,
   "id": "8b995df6",
   "metadata": {},
   "outputs": [
    {
     "data": {
      "text/html": [
       "<div>\n",
       "<style scoped>\n",
       "    .dataframe tbody tr th:only-of-type {\n",
       "        vertical-align: middle;\n",
       "    }\n",
       "\n",
       "    .dataframe tbody tr th {\n",
       "        vertical-align: top;\n",
       "    }\n",
       "\n",
       "    .dataframe thead th {\n",
       "        text-align: right;\n",
       "    }\n",
       "</style>\n",
       "<table border=\"1\" class=\"dataframe\">\n",
       "  <thead>\n",
       "    <tr style=\"text-align: right;\">\n",
       "      <th></th>\n",
       "      <th>gender</th>\n",
       "      <th>marital_status</th>\n",
       "      <th>employment_status</th>\n",
       "      <th>loan_purpose</th>\n",
       "    </tr>\n",
       "  </thead>\n",
       "  <tbody>\n",
       "    <tr>\n",
       "      <th>count</th>\n",
       "      <td>20000000</td>\n",
       "      <td>20000000</td>\n",
       "      <td>20000000</td>\n",
       "      <td>20000000</td>\n",
       "    </tr>\n",
       "    <tr>\n",
       "      <th>unique</th>\n",
       "      <td>3</td>\n",
       "      <td>4</td>\n",
       "      <td>4</td>\n",
       "      <td>5</td>\n",
       "    </tr>\n",
       "    <tr>\n",
       "      <th>top</th>\n",
       "      <td>Female</td>\n",
       "      <td>Widowed</td>\n",
       "      <td>Self-employed</td>\n",
       "      <td>Car</td>\n",
       "    </tr>\n",
       "    <tr>\n",
       "      <th>freq</th>\n",
       "      <td>6668851</td>\n",
       "      <td>5001978</td>\n",
       "      <td>5002215</td>\n",
       "      <td>4002633</td>\n",
       "    </tr>\n",
       "  </tbody>\n",
       "</table>\n",
       "</div>"
      ],
      "text/plain": [
       "          gender marital_status employment_status loan_purpose\n",
       "count   20000000       20000000          20000000     20000000\n",
       "unique         3              4                 4            5\n",
       "top       Female        Widowed     Self-employed          Car\n",
       "freq     6668851        5001978           5002215      4002633"
      ]
     },
     "execution_count": 13,
     "metadata": {},
     "output_type": "execute_result"
    }
   ],
   "source": [
    "# Summary of categorical columns\n",
    "df.describe(include=['object', 'category'])"
   ]
  },
  {
   "cell_type": "code",
   "execution_count": 14,
   "id": "2aa971a0",
   "metadata": {},
   "outputs": [
    {
     "data": {
      "text/plain": [
       "customer_id                0\n",
       "age                        0\n",
       "gender                     0\n",
       "marital_status             0\n",
       "dependents                 0\n",
       "employment_status          0\n",
       "annual_income              0\n",
       "loan_amount                0\n",
       "loan_term                  0\n",
       "interest_rate              0\n",
       "loan_purpose               0\n",
       "loan_to_value_ratio        0\n",
       "credit_score               0\n",
       "debt_to_income_ratio       0\n",
       "delinquencies              0\n",
       "credit_history_length      0\n",
       "default                    0\n",
       "default_amount             0\n",
       "repayment_tenure           0\n",
       "avg_loan_year_amount       0\n",
       "avg_loan_monthly_amount    0\n",
       "dtype: int64"
      ]
     },
     "execution_count": 14,
     "metadata": {},
     "output_type": "execute_result"
    }
   ],
   "source": [
    "# Check for missing values\n",
    "df.isnull().sum()"
   ]
  },
  {
   "cell_type": "code",
   "execution_count": null,
   "id": "df014bfa",
   "metadata": {},
   "outputs": [],
   "source": [
    "# Plot histograms for numerical features\n",
    "df_pandas.hist(bins=30, figsize=(20, 15))\n",
    "plt.tight_layout()\n",
    "plt.show();"
   ]
  },
  {
   "cell_type": "code",
   "execution_count": null,
   "id": "7f355c72",
   "metadata": {},
   "outputs": [],
   "source": [
    "# Box plots to check for outliers\n",
    "plt.figure(figsize=(15, 10))\n",
    "sns.boxplot(data=df_pandas)\n",
    "plt.xticks(rotation=90)\n",
    "plt.show()"
   ]
  },
  {
   "cell_type": "code",
   "execution_count": 15,
   "id": "f5068df7",
   "metadata": {},
   "outputs": [
    {
     "ename": "ValueError",
     "evalue": "could not convert string to float: 'Female'",
     "output_type": "error",
     "traceback": [
      "\u001b[1;31m---------------------------------------------------------------------------\u001b[0m",
      "\u001b[1;31mValueError\u001b[0m                                Traceback (most recent call last)",
      "Cell \u001b[1;32mIn[15], line 2\u001b[0m\n\u001b[0;32m      1\u001b[0m \u001b[38;5;66;03m# Correlation matrix\u001b[39;00m\n\u001b[1;32m----> 2\u001b[0m correlation_matrix \u001b[38;5;241m=\u001b[39m \u001b[43mdf\u001b[49m\u001b[38;5;241;43m.\u001b[39;49m\u001b[43mcorr\u001b[49m\u001b[43m(\u001b[49m\u001b[43m)\u001b[49m\n\u001b[0;32m      4\u001b[0m \u001b[38;5;66;03m# Heatmap of the correlation matrix\u001b[39;00m\n\u001b[0;32m      5\u001b[0m plt\u001b[38;5;241m.\u001b[39mfigure(figsize\u001b[38;5;241m=\u001b[39m(\u001b[38;5;241m12\u001b[39m, \u001b[38;5;241m8\u001b[39m))\n",
      "File \u001b[1;32m~\\AppData\\Local\\Programs\\Python\\Python311\\Lib\\site-packages\\pandas\\core\\frame.py:10054\u001b[0m, in \u001b[0;36mDataFrame.corr\u001b[1;34m(self, method, min_periods, numeric_only)\u001b[0m\n\u001b[0;32m  10052\u001b[0m cols \u001b[38;5;241m=\u001b[39m data\u001b[38;5;241m.\u001b[39mcolumns\n\u001b[0;32m  10053\u001b[0m idx \u001b[38;5;241m=\u001b[39m cols\u001b[38;5;241m.\u001b[39mcopy()\n\u001b[1;32m> 10054\u001b[0m mat \u001b[38;5;241m=\u001b[39m \u001b[43mdata\u001b[49m\u001b[38;5;241;43m.\u001b[39;49m\u001b[43mto_numpy\u001b[49m\u001b[43m(\u001b[49m\u001b[43mdtype\u001b[49m\u001b[38;5;241;43m=\u001b[39;49m\u001b[38;5;28;43mfloat\u001b[39;49m\u001b[43m,\u001b[49m\u001b[43m \u001b[49m\u001b[43mna_value\u001b[49m\u001b[38;5;241;43m=\u001b[39;49m\u001b[43mnp\u001b[49m\u001b[38;5;241;43m.\u001b[39;49m\u001b[43mnan\u001b[49m\u001b[43m,\u001b[49m\u001b[43m \u001b[49m\u001b[43mcopy\u001b[49m\u001b[38;5;241;43m=\u001b[39;49m\u001b[38;5;28;43;01mFalse\u001b[39;49;00m\u001b[43m)\u001b[49m\n\u001b[0;32m  10056\u001b[0m \u001b[38;5;28;01mif\u001b[39;00m method \u001b[38;5;241m==\u001b[39m \u001b[38;5;124m\"\u001b[39m\u001b[38;5;124mpearson\u001b[39m\u001b[38;5;124m\"\u001b[39m:\n\u001b[0;32m  10057\u001b[0m     correl \u001b[38;5;241m=\u001b[39m libalgos\u001b[38;5;241m.\u001b[39mnancorr(mat, minp\u001b[38;5;241m=\u001b[39mmin_periods)\n",
      "File \u001b[1;32m~\\AppData\\Local\\Programs\\Python\\Python311\\Lib\\site-packages\\pandas\\core\\frame.py:1838\u001b[0m, in \u001b[0;36mDataFrame.to_numpy\u001b[1;34m(self, dtype, copy, na_value)\u001b[0m\n\u001b[0;32m   1836\u001b[0m \u001b[38;5;28;01mif\u001b[39;00m dtype \u001b[38;5;129;01mis\u001b[39;00m \u001b[38;5;129;01mnot\u001b[39;00m \u001b[38;5;28;01mNone\u001b[39;00m:\n\u001b[0;32m   1837\u001b[0m     dtype \u001b[38;5;241m=\u001b[39m np\u001b[38;5;241m.\u001b[39mdtype(dtype)\n\u001b[1;32m-> 1838\u001b[0m result \u001b[38;5;241m=\u001b[39m \u001b[38;5;28;43mself\u001b[39;49m\u001b[38;5;241;43m.\u001b[39;49m\u001b[43m_mgr\u001b[49m\u001b[38;5;241;43m.\u001b[39;49m\u001b[43mas_array\u001b[49m\u001b[43m(\u001b[49m\u001b[43mdtype\u001b[49m\u001b[38;5;241;43m=\u001b[39;49m\u001b[43mdtype\u001b[49m\u001b[43m,\u001b[49m\u001b[43m \u001b[49m\u001b[43mcopy\u001b[49m\u001b[38;5;241;43m=\u001b[39;49m\u001b[43mcopy\u001b[49m\u001b[43m,\u001b[49m\u001b[43m \u001b[49m\u001b[43mna_value\u001b[49m\u001b[38;5;241;43m=\u001b[39;49m\u001b[43mna_value\u001b[49m\u001b[43m)\u001b[49m\n\u001b[0;32m   1839\u001b[0m \u001b[38;5;28;01mif\u001b[39;00m result\u001b[38;5;241m.\u001b[39mdtype \u001b[38;5;129;01mis\u001b[39;00m \u001b[38;5;129;01mnot\u001b[39;00m dtype:\n\u001b[0;32m   1840\u001b[0m     result \u001b[38;5;241m=\u001b[39m np\u001b[38;5;241m.\u001b[39marray(result, dtype\u001b[38;5;241m=\u001b[39mdtype, copy\u001b[38;5;241m=\u001b[39m\u001b[38;5;28;01mFalse\u001b[39;00m)\n",
      "File \u001b[1;32m~\\AppData\\Local\\Programs\\Python\\Python311\\Lib\\site-packages\\pandas\\core\\internals\\managers.py:1732\u001b[0m, in \u001b[0;36mBlockManager.as_array\u001b[1;34m(self, dtype, copy, na_value)\u001b[0m\n\u001b[0;32m   1730\u001b[0m         arr\u001b[38;5;241m.\u001b[39mflags\u001b[38;5;241m.\u001b[39mwriteable \u001b[38;5;241m=\u001b[39m \u001b[38;5;28;01mFalse\u001b[39;00m\n\u001b[0;32m   1731\u001b[0m \u001b[38;5;28;01melse\u001b[39;00m:\n\u001b[1;32m-> 1732\u001b[0m     arr \u001b[38;5;241m=\u001b[39m \u001b[38;5;28;43mself\u001b[39;49m\u001b[38;5;241;43m.\u001b[39;49m\u001b[43m_interleave\u001b[49m\u001b[43m(\u001b[49m\u001b[43mdtype\u001b[49m\u001b[38;5;241;43m=\u001b[39;49m\u001b[43mdtype\u001b[49m\u001b[43m,\u001b[49m\u001b[43m \u001b[49m\u001b[43mna_value\u001b[49m\u001b[38;5;241;43m=\u001b[39;49m\u001b[43mna_value\u001b[49m\u001b[43m)\u001b[49m\n\u001b[0;32m   1733\u001b[0m     \u001b[38;5;66;03m# The underlying data was copied within _interleave, so no need\u001b[39;00m\n\u001b[0;32m   1734\u001b[0m     \u001b[38;5;66;03m# to further copy if copy=True or setting na_value\u001b[39;00m\n\u001b[0;32m   1736\u001b[0m \u001b[38;5;28;01mif\u001b[39;00m na_value \u001b[38;5;129;01mis\u001b[39;00m \u001b[38;5;129;01mnot\u001b[39;00m lib\u001b[38;5;241m.\u001b[39mno_default:\n",
      "File \u001b[1;32m~\\AppData\\Local\\Programs\\Python\\Python311\\Lib\\site-packages\\pandas\\core\\internals\\managers.py:1794\u001b[0m, in \u001b[0;36mBlockManager._interleave\u001b[1;34m(self, dtype, na_value)\u001b[0m\n\u001b[0;32m   1792\u001b[0m     \u001b[38;5;28;01melse\u001b[39;00m:\n\u001b[0;32m   1793\u001b[0m         arr \u001b[38;5;241m=\u001b[39m blk\u001b[38;5;241m.\u001b[39mget_values(dtype)\n\u001b[1;32m-> 1794\u001b[0m     \u001b[43mresult\u001b[49m\u001b[43m[\u001b[49m\u001b[43mrl\u001b[49m\u001b[38;5;241;43m.\u001b[39;49m\u001b[43mindexer\u001b[49m\u001b[43m]\u001b[49m \u001b[38;5;241m=\u001b[39m arr\n\u001b[0;32m   1795\u001b[0m     itemmask[rl\u001b[38;5;241m.\u001b[39mindexer] \u001b[38;5;241m=\u001b[39m \u001b[38;5;241m1\u001b[39m\n\u001b[0;32m   1797\u001b[0m \u001b[38;5;28;01mif\u001b[39;00m \u001b[38;5;129;01mnot\u001b[39;00m itemmask\u001b[38;5;241m.\u001b[39mall():\n",
      "\u001b[1;31mValueError\u001b[0m: could not convert string to float: 'Female'"
     ]
    }
   ],
   "source": [
    "# Correlation matrix\n",
    "correlation_matrix = df.corr()\n",
    "\n",
    "# Heatmap of the correlation matrix\n",
    "plt.figure(figsize=(12, 8))\n",
    "sns.heatmap(correlation_matrix, annot=True, cmap='coolwarm', fmt=\".2f\")\n",
    "plt.title('Correlation Matrix')\n",
    "plt.show()"
   ]
  },
  {
   "cell_type": "code",
   "execution_count": 16,
   "id": "d2ebbbb6",
   "metadata": {},
   "outputs": [
    {
     "data": {
      "image/png": "[encoded data removed]",
      "text/plain": [
       "<Figure size 640x480 with 1 Axes>"
      ]
     },
     "metadata": {},
     "output_type": "display_data"
    }
   ],
   "source": [
    "# Distribution of the target variable\n",
    "sns.countplot(x='default', data=df)\n",
    "plt.title('Distribution of the Target Variable (default)')\n",
    "plt.show()"
   ]
  },
  {
   "cell_type": "code",
   "execution_count": null,
   "id": "fa774d97",
   "metadata": {},
   "outputs": [],
   "source": [
    "# Box plots to understand the relationship between features and the target variable\n",
    "plt.figure(figsize=(15, 10))\n",
    "for i, col in enumerate(df_pandas.select_dtypes(include=['float64', 'int64']).columns):\n",
    "    plt.subplot(len(df_pandas.select_dtypes(include=['float64', 'int64']).columns) // 2 + 1, 2, i + 1)\n",
    "    sns.boxplot(x='default', y=col, data=df_pandas)\n",
    "    plt.title(f'{col} vs Default')\n",
    "plt.tight_layout()\n",
    "plt.show()"
   ]
  },
  {
   "cell_type": "code",
   "execution_count": 18,
   "id": "7efe2801",
   "metadata": {
    "scrolled": true
   },
   "outputs": [
    {
     "data": {
      "text/plain": [
       "50.99857385"
      ]
     },
     "execution_count": 18,
     "metadata": {},
     "output_type": "execute_result"
    }
   ],
   "source": [
    "df['age'].mean()"
   ]
  },
  {
   "cell_type": "code",
   "execution_count": 20,
   "id": "5c7f0d52",
   "metadata": {},
   "outputs": [],
   "source": [
    "# Calculate the interquartile range (IQR)\n",
    "q25, q75 = np.percentile(df['age'], [25, 75])\n",
    "iqr = q75 - q25"
   ]
  },
  {
   "cell_type": "code",
   "execution_count": 21,
   "id": "1226cb16",
   "metadata": {},
   "outputs": [
    {
     "name": "stdout",
     "output_type": "stream",
     "text": [
      "34.0 34.0 68.0\n"
     ]
    }
   ],
   "source": [
    "print(iqr, q25, q75)"
   ]
  },
  {
   "cell_type": "code",
   "execution_count": 22,
   "id": "03f31f98",
   "metadata": {},
   "outputs": [],
   "source": [
    "# Calculate the bin width using the Freedman-Diaconis rule\n",
    "bin_width = 2 * iqr * len(df['age']) ** (-1/3)"
   ]
  },
  {
   "cell_type": "code",
   "execution_count": 23,
   "id": "b94f3d4a",
   "metadata": {},
   "outputs": [
    {
     "name": "stdout",
     "output_type": "stream",
     "text": [
      "Optimal number of bins according to the Freedman-Diaconis rule: 264\n"
     ]
    }
   ],
   "source": [
    "# Calculate the number of bins\n",
    "num_bins = int(np.ceil((df['age'].max() - df['age'].min()) / bin_width))\n",
    "\n",
    "print(f\"Optimal number of bins according to the Freedman-Diaconis rule: {num_bins}\")"
   ]
  },
  {
   "cell_type": "code",
   "execution_count": 28,
   "id": "bef9d2b7",
   "metadata": {},
   "outputs": [
    {
     "data": {
      "image/png": "[encoded data removed]",
      "text/plain": [
       "<Figure size 1000x600 with 1 Axes>"
      ]
     },
     "metadata": {},
     "output_type": "display_data"
    }
   ],
   "source": [
    "# Plot the histogram\n",
    "plt.figure(figsize=(10, 6))\n",
    "plt.hist(df['age'], bins=9, edgecolor='black', alpha=0.7)\n",
    "plt.title('Age Distribution Histogram')\n",
    "plt.xlabel('Age')\n",
    "plt.ylabel('Frequency')\n",
    "plt.grid(True)\n",
    "plt.show()"
   ]
  },
  {
   "cell_type": "code",
   "execution_count": null,
   "id": "90525164",
   "metadata": {},
   "outputs": [],
   "source": [
    "# Group by default status and calculate means\n",
    "grouped = df.groupby('default').mean()\n",
    "\n",
    "# Plot the relationship of numerical features with the target\n",
    "grouped.T.plot(kind='bar', figsize=(15, 10))\n",
    "plt.title('Mean Values of Features Grouped by Default Status')\n",
    "plt.xticks(rotation=90)\n",
    "plt.show()"
   ]
  },
  {
   "cell_type": "code",
   "execution_count": null,
   "id": "9e614143",
   "metadata": {},
   "outputs": [],
   "source": []
  }
 ],
 "metadata": {
  "kernelspec": {
   "display_name": "Python 3 (ipykernel)",
   "language": "python",
   "name": "python3"
  },
  "language_info": {
   "codemirror_mode": {
    "name": "ipython",
    "version": 3
   },
   "file_extension": ".py",
   "mimetype": "text/x-python",
   "name": "python",
   "nbconvert_exporter": "python",
   "pygments_lexer": "ipython3",
   "version": "3.12.0"
  }
 },
 "nbformat": 4,
 "nbformat_minor": 5
}
